{
 "cells": [
  {
   "cell_type": "code",
   "execution_count": 1,
   "metadata": {},
   "outputs": [],
   "source": [
    "using CausalELM\n",
    "using CSV\n",
    "using DataFrames\n",
    "using Random"
   ]
  },
  {
   "cell_type": "code",
   "execution_count": 2,
   "metadata": {},
   "outputs": [
    {
     "data": {
      "text/plain": [
       "(\u001b[1m9915×8 DataFrame\u001b[0m\n",
       "\u001b[1m  Row \u001b[0m│\u001b[1m age   \u001b[0m\u001b[1m inc   \u001b[0m\u001b[1m fsize \u001b[0m\u001b[1m marr  \u001b[0m\u001b[1m twoearn \u001b[0m\u001b[1m db    \u001b[0m\u001b[1m pira  \u001b[0m\u001b[1m hown  \u001b[0m\n",
       "      │\u001b[90m Int64 \u001b[0m\u001b[90m Int64 \u001b[0m\u001b[90m Int64 \u001b[0m\u001b[90m Int64 \u001b[0m\u001b[90m Int64   \u001b[0m\u001b[90m Int64 \u001b[0m\u001b[90m Int64 \u001b[0m\u001b[90m Int64 \u001b[0m\n",
       "──────┼──────────────────────────────────────────────────────────\n",
       "    1 │    31  28146      5      1        0      0      0      1\n",
       "    2 │    52  32634      5      0        0      0      0      1\n",
       "    3 │    50  52206      3      1        1      0      1      1\n",
       "    4 │    28  45252      4      1        1      0      0      0\n",
       "    5 │    42  33126      3      0        0      1      0      1\n",
       "    6 │    49  76860      6      1        1      1      0      1\n",
       "    7 │    40  57477      4      1        1      1      0      1\n",
       "    8 │    58  14637      1      0        0      0      0      0\n",
       "  ⋮   │   ⋮      ⋮      ⋮      ⋮       ⋮       ⋮      ⋮      ⋮\n",
       " 9909 │    28  31926      2      1        1      0      0      0\n",
       " 9910 │    49  64215      4      1        1      0      1      1\n",
       " 9911 │    34  13500      1      0        0      1      0      0\n",
       " 9912 │    33  39027      3      1        0      1      0      1\n",
       " 9913 │    34  62616      4      1        1      0      0      1\n",
       " 9914 │    41  56190      3      1        1      1      0      1\n",
       " 9915 │    28  26205      4      1        1      0      0      0\n",
       "\u001b[36m                                                9900 rows omitted\u001b[0m, [0, 0, 0, 0, 0, 0, 0, 0, 0, 0  …  1, 1, 1, 1, 1, 1, 1, 1, 1, 1], [-3300, 61010, 8849, -6013, -2375, -11000, -16901, 1000, 0, 6400  …  -1436, 4500, 34739, -750, 40000, 172, 836, 6150, 14499, -5400])"
      ]
     },
     "metadata": {},
     "output_type": "display_data"
    }
   ],
   "source": [
    "pension_df = CSV.read(\"pension.csv\", DataFrame)\n",
    "pension_df = pension_df[:, [10, 22, 13, 14, 15, 18, 20, 17, 24, 33]]\n",
    "covariates, treatment, outcome = pension_df[:, 3:end], pension_df[:, 2], pension_df[:, 1]"
   ]
  },
  {
   "cell_type": "code",
   "execution_count": 14,
   "metadata": {},
   "outputs": [
    {
     "data": {
      "text/plain": [
       "DoubleMachineLearning([31.0 28146.0 … 0.0 1.0; 52.0 32634.0 … 0.0 1.0; … ; 41.0 56190.0 … 0.0 1.0; 28.0 26205.0 … 0.0 0.0], [0.0, 0.0, 0.0, 0.0, 0.0, 0.0, 0.0, 0.0, 0.0, 0.0  …  1.0, 1.0, 1.0, 1.0, 1.0, 1.0, 1.0, 1.0, 1.0, 1.0], [-3300.0, 61010.0, 8849.0, -6013.0, -2375.0, -11000.0, -16901.0, 1000.0, 0.0, 6400.0  …  -1436.0, 4500.0, 34739.0, -750.0, 40000.0, 172.0, 836.0, 6150.0, 14499.0, -5400.0], [31.0 28146.0 … 0.0 1.0; 52.0 32634.0 … 0.0 1.0; … ; 41.0 56190.0 … 0.0 1.0; 28.0 26205.0 … 0.0 0.0], \"ATE\", false, \"regression\", CausalELM.relu, 9915, 100, 6, 32, NaN, 5)"
      ]
     },
     "metadata": {},
     "output_type": "display_data"
    }
   ],
   "source": [
    "dr_learner = DoubleMachineLearning(covariates, treatment, outcome, num_feats=6)"
   ]
  },
  {
   "cell_type": "code",
   "execution_count": 18,
   "metadata": {},
   "outputs": [
    {
     "data": {
      "text/plain": [
       "0.1134771453284956"
      ]
     },
     "metadata": {},
     "output_type": "display_data"
    }
   ],
   "source": [
    "estimate_causal_effect!(dr_learner)"
   ]
  },
  {
   "cell_type": "code",
   "execution_count": null,
   "metadata": {},
   "outputs": [],
   "source": [
    "x, y = rand(10000, 7), rand(10000)"
   ]
  },
  {
   "cell_type": "code",
   "execution_count": null,
   "metadata": {},
   "outputs": [],
   "source": [
    "learner = CausalELM.RegularizedExtremeLearner(x, y, 32, CausalELM.relu)"
   ]
  },
  {
   "cell_type": "code",
   "execution_count": null,
   "metadata": {},
   "outputs": [],
   "source": [
    "CausalELM.fit!(learner)"
   ]
  },
  {
   "cell_type": "code",
   "execution_count": null,
   "metadata": {},
   "outputs": [],
   "source": [
    "xs = [rand(1000, 8) for i in 1:100]\n",
    "ys = [rand(1000) for i in 1:100]\n",
    "\n",
    "learners = [CausalELM.ExtremeLearner(xs[i], ys[i], 5, CausalELM.relu) for i in 1:100]\n",
    "CausalELM.fit!.(learners)"
   ]
  },
  {
   "cell_type": "code",
   "execution_count": null,
   "metadata": {},
   "outputs": [],
   "source": [
    "mutable struct ELMEnsemble\n",
    "    X::Array{Float64}\n",
    "    Y::Array{Float64}\n",
    "    elms::Array{CausalELM.ExtremeLearner}\n",
    "end\n",
    "\n",
    "function ELMEnsemble(\n",
    "    X::Array{Float64}, \n",
    "    Y::Array{Float64}, \n",
    "    sample_size::Integer, \n",
    "    num_machines::Integer, \n",
    "    num_neurons::Integer\n",
    ")\n",
    "    rows = [rand(1:length(Y), length(Y)) for i in 1:num_machines]\n",
    "    cols = [randperm(size(X, 2))[1:floor(Int64, sqrt(size(X, 2)))] for i ∈ 1:num_machines]\n",
    "    xs, ys = [X[rows[i], cols[i]] for i ∈ eachindex(rows)], [Y[rows[i]] for i ∈ eachindex(rows)]\n",
    "    elms = [CausalELM.ExtremeLearner(xs[i], ys[i], num_neurons, CausalELM.relu) for i ∈ 1:num_machines]\n",
    "\n",
    "    return ELMEnsemble(X, Y, elms)\n",
    "end\n",
    "\n",
    "fit!(mod::ELMEnsemble) = CausalELM.fit!.(mod.elms)"
   ]
  },
  {
   "cell_type": "code",
   "execution_count": null,
   "metadata": {},
   "outputs": [],
   "source": [
    "ensemble = ELMEnsemble(Matrix{Float64}(covariates), Float64.(outcome[:, 1]), 10000, 100, 10)"
   ]
  },
  {
   "cell_type": "code",
   "execution_count": null,
   "metadata": {},
   "outputs": [],
   "source": [
    "fit!(ensemble)"
   ]
  },
  {
   "cell_type": "code",
   "execution_count": null,
   "metadata": {},
   "outputs": [],
   "source": [
    "m1 = GComputation(x, rand(0:1, 10000), y, regularized=false)"
   ]
  },
  {
   "cell_type": "code",
   "execution_count": null,
   "metadata": {},
   "outputs": [],
   "source": [
    "estimate_causal_effect!(m1)"
   ]
  }
 ],
 "metadata": {
  "kernelspec": {
   "display_name": "Julia 1.8.5",
   "language": "julia",
   "name": "julia-1.8"
  },
  "language_info": {
   "file_extension": ".jl",
   "mimetype": "application/julia",
   "name": "julia",
   "version": "1.8.5"
  }
 },
 "nbformat": 4,
 "nbformat_minor": 2
}
